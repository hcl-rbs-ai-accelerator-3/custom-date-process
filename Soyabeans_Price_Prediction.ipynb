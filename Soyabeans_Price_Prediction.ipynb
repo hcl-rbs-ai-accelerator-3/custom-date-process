{
 "cells": [
  {
   "cell_type": "markdown",
   "metadata": {},
   "source": [
    "### Soybean Price Regression"
   ]
  },
  {
   "cell_type": "code",
   "execution_count": 2,
   "metadata": {},
   "outputs": [],
   "source": [
    "# Importing Library\n",
    "from custom_dt import *"
   ]
  },
  {
   "cell_type": "code",
   "execution_count": 3,
   "metadata": {},
   "outputs": [
    {
     "data": {
      "text/html": [
       "<div>\n",
       "<style scoped>\n",
       "    .dataframe tbody tr th:only-of-type {\n",
       "        vertical-align: middle;\n",
       "    }\n",
       "\n",
       "    .dataframe tbody tr th {\n",
       "        vertical-align: top;\n",
       "    }\n",
       "\n",
       "    .dataframe thead th {\n",
       "        text-align: right;\n",
       "    }\n",
       "</style>\n",
       "<table border=\"1\" class=\"dataframe\">\n",
       "  <thead>\n",
       "    <tr style=\"text-align: right;\">\n",
       "      <th></th>\n",
       "      <th>Cash Price</th>\n",
       "      <th>Basis</th>\n",
       "      <th>Year</th>\n",
       "      <th>Month</th>\n",
       "      <th>Week</th>\n",
       "      <th>Day</th>\n",
       "      <th>Dayofweek</th>\n",
       "      <th>Dayofyear</th>\n",
       "    </tr>\n",
       "  </thead>\n",
       "  <tbody>\n",
       "    <tr>\n",
       "      <th>0</th>\n",
       "      <td>4.90</td>\n",
       "      <td>-0.18</td>\n",
       "      <td>2000</td>\n",
       "      <td>12</td>\n",
       "      <td>48</td>\n",
       "      <td>1</td>\n",
       "      <td>4</td>\n",
       "      <td>336</td>\n",
       "    </tr>\n",
       "    <tr>\n",
       "      <th>1</th>\n",
       "      <td>4.87</td>\n",
       "      <td>-0.18</td>\n",
       "      <td>2000</td>\n",
       "      <td>12</td>\n",
       "      <td>49</td>\n",
       "      <td>4</td>\n",
       "      <td>0</td>\n",
       "      <td>339</td>\n",
       "    </tr>\n",
       "    <tr>\n",
       "      <th>2</th>\n",
       "      <td>4.83</td>\n",
       "      <td>-0.18</td>\n",
       "      <td>2000</td>\n",
       "      <td>12</td>\n",
       "      <td>49</td>\n",
       "      <td>5</td>\n",
       "      <td>1</td>\n",
       "      <td>340</td>\n",
       "    </tr>\n",
       "    <tr>\n",
       "      <th>3</th>\n",
       "      <td>4.89</td>\n",
       "      <td>-0.18</td>\n",
       "      <td>2000</td>\n",
       "      <td>12</td>\n",
       "      <td>49</td>\n",
       "      <td>6</td>\n",
       "      <td>2</td>\n",
       "      <td>341</td>\n",
       "    </tr>\n",
       "    <tr>\n",
       "      <th>4</th>\n",
       "      <td>4.85</td>\n",
       "      <td>-0.18</td>\n",
       "      <td>2000</td>\n",
       "      <td>12</td>\n",
       "      <td>49</td>\n",
       "      <td>7</td>\n",
       "      <td>3</td>\n",
       "      <td>342</td>\n",
       "    </tr>\n",
       "  </tbody>\n",
       "</table>\n",
       "</div>"
      ],
      "text/plain": [
       "   Cash Price  Basis  Year  Month  Week  Day  Dayofweek  Dayofyear\n",
       "0        4.90  -0.18  2000     12    48    1          4        336\n",
       "1        4.87  -0.18  2000     12    49    4          0        339\n",
       "2        4.83  -0.18  2000     12    49    5          1        340\n",
       "3        4.89  -0.18  2000     12    49    6          2        341\n",
       "4        4.85  -0.18  2000     12    49    7          3        342"
      ]
     },
     "execution_count": 3,
     "metadata": {},
     "output_type": "execute_result"
    }
   ],
   "source": [
    "# Reading Data and Feature Engineering\n",
    "df = pd.read_csv(\"C:/Users/kiran.ramamurthy/OneDrive - HCL Technologies Ltd/Documents/POC's/Data/SalesData.csv\")\n",
    "\n",
    "df = extract_dt(df)\n",
    "\n",
    "col_list = ['Cash Price', 'Basis', 'Year', 'Month', 'Week', 'Day', 'Dayofweek', 'Dayofyear']\n",
    "df = df[col_list]\n",
    "df.head()"
   ]
  },
  {
   "cell_type": "code",
   "execution_count": 4,
   "metadata": {},
   "outputs": [
    {
     "name": "stdout",
     "output_type": "stream",
     "text": [
      "Training acccuracy\n"
     ]
    },
    {
     "data": {
      "text/plain": [
       "0.9993974925218905"
      ]
     },
     "execution_count": 4,
     "metadata": {},
     "output_type": "execute_result"
    }
   ],
   "source": [
    "# Modelling using Random Forest Regressor\n",
    "X = df\n",
    "y = df['Cash Price']\n",
    "del X['Cash Price']\n",
    "X_train, X_test, y_train, y_test = train_test_split(X, y, test_size = 0.2, random_state = 0)\n",
    "regressor = RandomForestRegressor(n_estimators = 100, random_state = 23)\n",
    "regressor.fit(X_train, y_train)\n",
    "print(\"Training acccuracy\")\n",
    "regressor.score(X_train, y_train)"
   ]
  },
  {
   "cell_type": "code",
   "execution_count": 5,
   "metadata": {},
   "outputs": [
    {
     "name": "stdout",
     "output_type": "stream",
     "text": [
      "RMSE: 0.17875410082813234\n"
     ]
    }
   ],
   "source": [
    "# Let's see the accuracy on the Test Set\n",
    "predictions = regressor.predict(X_test)\n",
    "\n",
    "# print('MAE:', metrics.mean_absolute_error(y_test, predictions))\n",
    "# print('MSE:', metrics.mean_squared_error(y_test, predictions))\n",
    "print('RMSE:', np.sqrt(metrics.mean_squared_error(y_test, predictions)))"
   ]
  },
  {
   "cell_type": "code",
   "execution_count": 6,
   "metadata": {},
   "outputs": [
    {
     "name": "stdout",
     "output_type": "stream",
     "text": [
      "The Training Score with Entire data trained is\n"
     ]
    },
    {
     "data": {
      "text/plain": [
       "0.99951982039458"
      ]
     },
     "execution_count": 6,
     "metadata": {},
     "output_type": "execute_result"
    }
   ],
   "source": [
    "# Thus remodelling with entire Dataset\n",
    "regressor.fit(X, y)\n",
    "print(\"The Training Score with Entire data trained is\")\n",
    "regressor.score(X, y)"
   ]
  },
  {
   "cell_type": "code",
   "execution_count": 7,
   "metadata": {},
   "outputs": [
    {
     "name": "stdout",
     "output_type": "stream",
     "text": [
      "   Basis  Year  Month  Week  Day  Dayofweek  Dayofyear\n",
      "0  -0.85  2019      1     4   25          6         25\n",
      "######################################################################\n",
      "A bushel of soybeans is estimated to sell for $8.59519999999999\n",
      "######################################################################\n"
     ]
    }
   ],
   "source": [
    "# Thus Lets predict with a new value\n",
    "df_pred = pd.DataFrame({'Basis':[-.85],\n",
    "                    'Year':[2019],\n",
    "                    'Month':[1],\n",
    "                    'Week':[4],\n",
    "                    'Day':[25],\n",
    "                    'Dayofweek':[6],\n",
    "                    'Dayofyear':[25],})\n",
    "print(df_pred)\n",
    "print(\"#\"*70)\n",
    "print(\"A bushel of soybeans is estimated to sell for ${}\".format(str(regressor.predict(df_pred)[0])))\n",
    "print(\"#\"*70)"
   ]
  }
 ],
 "metadata": {
  "kernelspec": {
   "display_name": "Python 3",
   "language": "python",
   "name": "python3"
  },
  "language_info": {
   "codemirror_mode": {
    "name": "ipython",
    "version": 3
   },
   "file_extension": ".py",
   "mimetype": "text/x-python",
   "name": "python",
   "nbconvert_exporter": "python",
   "pygments_lexer": "ipython3",
   "version": "3.8.8"
  }
 },
 "nbformat": 4,
 "nbformat_minor": 4
}
